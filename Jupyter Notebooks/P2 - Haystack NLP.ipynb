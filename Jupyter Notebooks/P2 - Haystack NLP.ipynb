{
 "cells": [
  {
   "cell_type": "markdown",
   "metadata": {},
   "source": [
    "<font size=\"6.5\">\n",
    "    CORD-19 Dataset\n",
    "</font>\n",
    "\n",
    "<br>\n",
    "\n",
    "CORD-19 is a resource of over 44,000 scholarly articles, including over 29,000 with full text, about COVID-19, SARS-CoV-2, and related coronaviruses. <a href=\"https://www.kaggle.com/allen-institute-for-ai/CORD-19-research-challenge\">[1] COVID-19 Open Research Dataset Challenge</a>\n",
    "\n",
    "Mining this literature is of great interest to any scientist interested in studying COVID-19.\n",
    "\n",
    "<br>\n",
    "<font size=\"5\">\n",
    "    Dataset\n",
    "</font>\n",
    "\n",
    "<br>\n",
    "\n",
    "We extracted the abstracts from all the articles in the CORD dataset, and saved them as text files.\n",
    "\n",
    "\n",
    "<br>\n",
    "<font size=\"5\">\n",
    "    Haystack NLP\n",
    "</font>\n",
    "\n",
    "We will be using Haystack to perform NLP functions on the CORD-19 dataset."
   ]
  },
  {
   "cell_type": "code",
   "execution_count": 1,
   "metadata": {},
   "outputs": [],
   "source": [
    "from haystack import Finder\n",
    "from haystack.database.sql import SQLDocumentStore\n",
    "from haystack.indexing.cleaning import clean_wiki_text\n",
    "from haystack.indexing.io import write_documents_to_db, fetch_archive_from_http\n",
    "from haystack.reader.farm import FARMReader\n",
    "from haystack.reader.transformers import TransformersReader\n",
    "from haystack.retriever.tfidf import TfidfRetriever\n",
    "from haystack.utils import print_answers"
   ]
  },
  {
   "cell_type": "markdown",
   "metadata": {},
   "source": [
    "## Indexing & cleaning documents"
   ]
  },
  {
   "cell_type": "code",
   "execution_count": 10,
   "metadata": {},
   "outputs": [
    {
     "name": "stderr",
     "output_type": "stream",
     "text": [
      "03/22/2020 16:26:40 - INFO - haystack.indexing.io -   Wrote 885 docs to DB\n",
      "03/22/2020 16:27:05 - INFO - haystack.indexing.io -   Wrote 9118 docs to DB\n",
      "03/22/2020 16:27:10 - INFO - haystack.indexing.io -   Wrote 2353 docs to DB\n",
      "03/22/2020 16:27:43 - INFO - haystack.indexing.io -   Wrote 16959 docs to DB\n"
     ]
    }
   ],
   "source": [
    "# Documents are saved as text files\n",
    "preprint_dir = \"C:\\\\data\\\\CORD-19\\\\biorxiv_medrxiv\\\\biorxiv_medrxiv_txt\"\n",
    "comm_dir = \"C:\\\\data\\\\CORD-19\\\\comm_use_subset\\\\comm_use_subset_txt\"\n",
    "noncomm_dir = \"C:\\\\data\\\\CORD-19\\\\noncomm_use_subset\\\\noncomm_use_subset_txt\"\n",
    "custom_dir = \"C:\\\\data\\\\CORD-19\\\\custom_license\\\\custom_license_txt\"\n",
    "\n",
    "# Use SQLite to store data\n",
    "document_store = SQLDocumentStore(url=\"sqlite:///cord.db\")\n",
    "\n",
    "# Save docs in DB\n",
    "write_documents_to_db(document_store=document_store, document_dir=doc_dir, clean_func=clean_wiki_text, only_empty_db=False)\n",
    "write_documents_to_db(document_store=document_store, document_dir=comm_dir, clean_func=clean_wiki_text, only_empty_db=False)\n",
    "write_documents_to_db(document_store=document_store, document_dir=noncomm_dir, clean_func=clean_wiki_text, only_empty_db=False)\n",
    "write_documents_to_db(document_store=document_store, document_dir=custom_dir, clean_func=clean_wiki_text, only_empty_db=False)"
   ]
  },
  {
   "cell_type": "markdown",
   "metadata": {},
   "source": [
    "## Initalize Reader, Retriever & Finder"
   ]
  },
  {
   "cell_type": "code",
   "execution_count": 11,
   "metadata": {},
   "outputs": [
    {
     "name": "stderr",
     "output_type": "stream",
     "text": [
      "03/22/2020 16:27:56 - INFO - haystack.retriever.tfidf -   Found 21976 candidate paragraphs from 30200 docs in DB\n"
     ]
    }
   ],
   "source": [
    "# A retriever identifies the k most promising chunks of text that might contain the answer for our question\n",
    "# Retrievers use some simple but fast algorithm, here: TF-IDF\n",
    "retriever = TfidfRetriever(document_store=document_store)"
   ]
  },
  {
   "cell_type": "code",
   "execution_count": 12,
   "metadata": {},
   "outputs": [
    {
     "name": "stderr",
     "output_type": "stream",
     "text": [
      "03/22/2020 16:28:22 - INFO - farm.utils -   device: cpu n_gpu: 0, distributed training: False, automatic mixed precision training: None\n",
      "03/22/2020 16:28:22 - INFO - farm.infer -   Could not find `deepset/bert-base-cased-squad2` locally. Try to download from model hub ...\n",
      "03/22/2020 16:28:24 - WARNING - farm.modeling.language_model -   Could not automatically detect from language model name what language it is. \n",
      "\t We guess it's an *ENGLISH* model ... \n",
      "\t If not: Init the language model by supplying the 'language' param.\n",
      "03/22/2020 16:28:27 - WARNING - farm.modeling.prediction_head -   Some unused parameters are passed to the QuestionAnsweringHead. Might not be a problem. Params: {\"loss_ignore_index\": -1}\n",
      "03/22/2020 16:28:29 - INFO - farm.utils -   device: cpu n_gpu: 0, distributed training: False, automatic mixed precision training: None\n"
     ]
    }
   ],
   "source": [
    "# A reader scans the text chunks in detail and extracts the k best answers\n",
    "# Reader use more powerful but slower deep learning models\n",
    "# You can select a local model or  any of the QA models published on huggingface's model hub (https://huggingface.co/models)\n",
    "# here: a medium sized BERT QA model trained via FARM on Squad 2.0\n",
    "reader = FARMReader(model_name_or_path=\"deepset/bert-base-cased-squad2\", use_gpu=False)\n",
    "\n",
    "# OR: use alternatively a reader from huggingface's transformers package (https://github.com/huggingface/transformers)\n",
    "# reader = TransformersReader(model=\"distilbert-base-uncased-distilled-squad\", tokenizer=\"distilbert-base-uncased\", use_gpu=-1)"
   ]
  },
  {
   "cell_type": "code",
   "execution_count": 13,
   "metadata": {},
   "outputs": [],
   "source": [
    "# The Finder sticks together reader and retriever in a pipeline to answer our actual questions\n",
    "finder = Finder(reader, retriever)"
   ]
  },
  {
   "cell_type": "markdown",
   "metadata": {},
   "source": [
    "## Voilà! Ask a question!"
   ]
  },
  {
   "cell_type": "code",
   "execution_count": 14,
   "metadata": {},
   "outputs": [
    {
     "name": "stderr",
     "output_type": "stream",
     "text": [
      "03/22/2020 16:28:43 - INFO - haystack.retriever.tfidf -   Identified 10 candidates via retriever:\n",
      "  paragraph_id  document_id                                                                                                                                                                                                                                                                                                                                                                                                                                                                                                                                                                                                                                                                                                                                                                                                                                                                                                                                                                                                                                                                                                                                                                                                                                                                                                                                                                                                                                                                                                                                                                                                                                                                                                                                                                                                                                                                                                                                                                                                                                                                                                                                                                                                                                                                                                                                                                                                                                                                                                                                                                                                                                                                                                                                                                                                                                                                                                                                                                                                                                                                             text\n",
      "        21606        29605                                                                                                                                                                                                                                                                                                                                                                                                                                                                                                                                                                                                                                                                                                                                                                                                                                                                                                                                                                                                                                                                                                                                                                                                                                                                                                                                                                                                                                                                                                                                                                                                                                                                                                                                                                                                                                                                                                                                                                                                                                                                                                                                                                                                                                                                                                                                                                                                                                                                                                                            The virology, immunology, diagnosis, clinical symptoms, treatment, epidemiology and prevention measures relating to the most common viral causes of acute gastroenteritis (rotaviruses, human caliciviruses, astroviruses and enteric adenoviruses) are briefly reviewed. Uncommon viral causes of acute gastroenteritis and viruses causing gastroenteritis in immunodeficient patients are mentioned. The main change over the past three years has been the development, licensing and wide application of new live attenuated rotavirus vaccines.\n",
      "        11864        13960                                                                                                                                                                                                                                                                                                                                                                                                                                                                                                                                                                                                                                                                                                                                                                                                                                                                                                                                                                                                                                                                                                                                                                                                                                                                                                                                                                                                                                                                                                                                                                                                                                                                                                                                                                                                                                                                                                                                                                                                                                                                                                                                                                                                                                                                             This article reviews the virology, immunology and epidemiology of the most common viral causes of acute gastroenteritis (rotaviruses, human caliciviruses, astroviruses and enteric adenoviruses). The clinical symptoms span from mild diarrhoea to life-threatening dehydration, and rotavirus disease is a major cause of childhood mortality, mainly in developing countries. The diagnosis, treatment and preventive measures are reviewed. Uncommon viral causes of acute gastroenteritis and viruses causing gastroenteritis in immunodeficient patients are mentioned. The clinically most important development in this field over the past 3 years has been the wide application of the new live attenuated rotavirus vaccines in universal mass vaccination programmes in many countries.\n",
      "        12443        14877                                                                                                                                                                                                                                                                                                                                                                                                                                                                                                                                                                                                                                                                                                                                                                                                                                                                                                                                                                                                                                                                                                                                                                                                                                                                                                                                                                                                                                                                                                                                     Outbreaks of gastroenteritis may lead to serious disruption when many persons are absent from work or school. The illness may be life-threatening, particularly in the very young and very old. Control of gastroenteritis associated with microbial infection is therefore an important aspect of preventive medicine. Laboratory investigations are necessary to establish the source of an outbreak, to determine whether chemotherapy is necessary as it is in, for example, Giardia lamblia infection and to identify long-term changes in the pattern of infections related to altered dietary habits and other social factors. In this survey we draw attention to the many infective agents which have to be considered in the investigation of cases and outbreaks of gastroenteritis. The examination of faecal samples in the microbiology laboratory is becoming increasingly complex requiring as it does the use of additional new techniques for previously unrecognised bacterial, viral and protozoal causes of gastroenteritis including, in the last two decades, Campylobacter, Clostridiurn difficile, rotavirus, Norwalk virus and Cryptosporidium. These investigations are however expensive and in the face of increasing pressure to economise, it is of paramount importance that the best use should be made of the resources available. To this end we make recommendations about the information that should accompany faecal and other samples submitted to the laboratory from outbreaks of gastroenteritis.\n",
      "        16417        21396                                                                                                                                                                                                                                                                                                                                                                                                                                                                                                                                                                                                                                                                                                                                                                                                                                                                                                                                                                                                                                                                                                                                                                                                                                                                                                                                                                                                                                                                                                                                                                              Background: Human coronaviruses (HCoVs) are known respiratory pathogens. Moreover, coronaviruslike particles have been seen by electron microscope in stools, and SARS-HCoV has been isolated from intestinal tissue and detected in stool samples.Objectives: To find out if HCoVs can be found in stools of children with acute gastroenteritis and to assess the significance of HCoVs in the etiology of acute gastroenteritis in children. Study design: 878 stool specimens from children with acute gastroenteritis and 112 from control children were tested by RT-PCR to detect HCoV groups 1B, 2A and SARS. HCoVs were typed by sequencing all PCR positive samples. Results: Twenty-two (2.5%) of the 878 stool specimens of children with acute gastroenteritis were positive for HCoVs. The following HCoV types were detected: OC43 (10 cases, 45.5%), HKU1 (6 cases, 27.3%), 229E (2 cases, 9.1%) and NL63 (4 cases, 18.2%). In 4 of the cases a HCoV was the only detected virus; in the remaining cases rotavirus or norovirus was found in the same sample. In control groups there were two HCoV positive samples of 112 tested. Conclusions: This study shows that all known non-SARS HCoVs can be found in stools of children with acute gastroenteritis. On the basis of this study, the significance of coronaviruses as gastrointestinal pathogens in children appears minor, since most of the coronavirus findings were co-infections with known gastroenteritis viruses.\n",
      "         3034         3453                                                                                                                                                                                                                                                                                                                                                                                                                                                                                                                                                                                                                                                                                                                                                                                                                                                                                                                                                                                                                                                                                                                                                                                                                                                                                                                                                                                                                                                                                                                                                                                                                                                                                                                                                                                                                                        Gastroenteritis is a common illness causing considerable morbidity and mortality worldwide. Despite improvements in detection methods, a significant diagnostic gap still remains. Human bocavirus (HBoV)s, which are associated with respiratory infections, have also frequently been detected in stool samples in cases of gastroenteritis, and a tentative association between HBoVs, and in particular type-2 HBoVs, and gastroenteritis has previously been made. The aim of this study was to determine the role of HBoVs in gastroenteritis, using archived DNA samples from the case-control Infectious Intestinal Disease Study (IID). DNA extracted from stool samples from 2,256 cases and 2,124 controls were tested for the presence of HBoV DNA. All samples were screened in a real time PCR pan-HBoV assay, and positive samples were then tested in genotype 1 to 3-specific assays. HBoV was detected in 7.4% but no significantly different prevalence was observed between cases and controls. In the genotype-specific assays 106 of the 324 HBoV-positive samples were genotyped, with HBoV-1 predominantly found in controls whilst HBoV-2 was more frequently associated with cases of gastroenteritis (p,0.01).\n",
      "        21357        29192                                                                                                                                                                                                                                                                                                                                                                                                                                                                                                                                                                                                                                                                                                                                                                                                                                                                                                                                                                                                                                                                                     Acute gastroenteritis, characterized by the onset of diarrhea with or without vomiting, continues to be a major cause of morbidity and mortality in children in mostly resourceconstrained nations. Although generally a mild and self-limiting disease, gastroenteritis is one of the most common causes of hospitalization and is associated with a substantial disease burden. Worldwide, up to 40% of children aged less than 5 years with diarrhea are hospitalized with rotavirus. Also, some microorganisms have been found predominantly in resource-constrained nations, including Shigella spp, Vibrio cholerae, and the protozoan infections. Prevention remains essential, and the rotavirus vaccines have demonstrated good safety and efficacy profiles in large clinical trials. Because dehydration is the major complication associated with gastroenteritis, appropriate fluid management (oral or intravenous) is an effective and safe strategy for rehydration. Continuation of breastfeeding is strongly recommended. New treatments such as antiemetics (ondansetron), some antidiarrheal agents (racecadotril), and chemotherapeutic agents are often proposed, but not yet universally recommended. Probiotics, also known as \"food supplement,\" seem to improve intestinal microbial balance, reducing the duration and the severity of acute infectious diarrhea. The European Society for Paediatric Gastroenterology, Hepatology and Nutrition and the European Society of Paediatric Infectious Diseases guidelines make a stronger recommendation for the use of probiotics for the management of acute gastroenteritis, particularly those with documented efficacy such as Lactobacillus rhamnosus GG, Lactobacillus reuteri, and Saccharomyces boulardii. To date, the management of acute gastroenteritis has been based on the option of \"doing the least\": oral rehydration-solution administration, early refeeding, no testing, no unnecessary drugs.\n",
      "         6279         7023                                                                                                                                                                                                                                                                                                                                                                                                                                                                                                                                                                                                                                                                                                                                                                                                                                                                                                                                                                                                                                                                                                                                                                                                                                                                        A total of 1002 patients were recruited and 892 were enrolled (110 were excluded based on pre-determined exclusion criteria). Based on the reference standard process described in the 'Methods' section, patients were assigned to four different diagnosis groups: (i) bacterial; (ii) viral; (iii) no apparent infectious disease or healthy (controls); and (iv) indeterminate. Patients diagnosed by the panel as having mixed infections (bacteria plus virus) were labeled as bacterial because they are managed similarly (e.g. treated with antibiotics) (see 'Methods', Fig. 1A ). In total, 89% of all enrolled patients were assigned a diagnosis, a rate which approaches the literature-documented limit [1-3]. The following sections provide a detailed description of patient characteristics, which includes all the patients with a final diagnosis (n=794): 765 patients included in the study cohort and 29 patients for which the serum samples were depleted during the screening phase (Fig. 1). Patients of all ages were recruited to the study. The patients with agreed diagnosis (diagnosed patients; n=794) included more pediatric (≤18 years) than adult (>18 years) patients (445 patients [56%] vs 349 [44%]). The age distribution was relatively uniform for patients aged 20-80 years and peaked at <4 years of age for pediatric patients (Fig.  S2) . The observed age distribution for pediatric patients is consistent with that expected and represents the background distribution in the inpatient setting [4] (e.g., the emergency department [ED], pediatrics departments, and internal departments). Patients of both genders were recruited to the study. The patient population was balanced in respect to gender distribution (47% females, 53% males).\n",
      "        10002        11283                                                                                                                                                                                                                                                                                                                                                                                                                                                                                                                                                                                                                                                                                                                                                                                                                                                                                                                                                                                                                                                                                                                                                                                                                                                                                                                                                                                                                                                                                                                                                                                                                                                 Background: The natural history and consequences of severe H1N1 influenza infection among cancer patients are not yet fully characterized. We describe eight cases of H1N1 infection in cancer patients admitted to the intensive care unit of a referral cancer center.Patients and methods: Clinical data from all patients admitted with acute respiratory failure due to novel viral H1N1 infection were reviewed. Lung tissue was submitted for viral and bacteriological analyses by real-time RT-PCR, and autopsy was conducted on all patients who died.Results: Eight patients were admitted, with ages ranging from 55 to 65 years old. There were five patients with solid organ tumors (62.5%) and three with hematological malignancies (37.5%). Five patients required mechanical ventilation and all died. Four patients had bacterial bronchopneumonia. All deaths occurred due to multiple organ failure. A milder form of lung disease was present in the three cases who survived. Lung tissue analysis was performed in all patients and showed diffuse alveolar damage in most patients. Other lung findings were necrotizing bronchiolitis or extensive hemorrhage.Conclusions: H1N1 viral infection in patients with cancer can cause severe illness, resulting in acute respiratory distress syndrome and death. More data are needed to identify predictors of unfavorable evolution in these patients.\n",
      "          230          261  Background In December 2019, novel coronavirus (SARS-CoV-2) infected pneumonia occurred in Wuhan, China. The number of cases has increased rapidly but information on the clinical characteristics of SARS-CoV-2 pneumonia without comorbidities compared to normal controls in Chinese Han population is limited. Our objective is to describe the epidemiological and clinical characteristics of SARS-CoV-2 pneumonia without comorbidities compared to normal controls in the Chinese Han population.Methods Retrospective, multi-center case series of the 69 consecutive hospitalized patients with confirmed SARS-CoV-2 pneumonia,The study population included 69 hospitalized patients with confirmed SARS-CoV-2 pneumonia without comorbidities and 14,117 normal controls. 50.7% patients were male and 49.3% were female; 1.5% patients were asymptomatic cases, 63.8% patients were mild cases, and 36.2% patients were severe or critical cases. Compared with mild patients (n=44), severe or critical patients (n=25) were significantly older (median age, 67 years [IQR, vs. 49 years [IQR, 36-60]; p<0.01). Fever was present in 98.6% of the patients. The second most common symptom was cough (62.3%), fatigue (58.0%), sputum (39.1%), and headache (33.3%). The median incubation period was 4 days (IQR, 2 to 7). Leukocyte count was 74.1% of normal controls and lymphocyte count was 45.9% of normal controls. The phenomenon of lymphocyte depletion (PLD) observed in severe or critical cases in 100%.Levels of lactate dehydrogenase, D-dimer, procalcitonin, and interleukin-6 were showed significant differences between mild and severe or critical cases. Chest computed tomographic scans showed bilateral patchy patterns (49.3%), local patchy shadowing (29.0%), and ground glass opacity (21.7%). 7.3% patients were diagnosed ARDS, 7.3% patients were diagnosed acute cardiac injury (troponin I >28 pg/mL) and 4.4% patients were diagnosed fungal infections or shock. 4.3% patients have been discharged; 1.5% patient had died; 1.5% patient had recovery.Conclusions In this multicenter case series of 69 patients without comorbidities, the full All rights reserved. No reuse allowed without permission. author/funder, who has granted medRxiv a license to display the preprint in perpetuity. : medRxiv preprint 3 spectrum of asymptomatic, mild, severe, and critical cases is described. 50.7% patients were male and 49.3% were female; 1.5% patients were asymptomatic cases, 63.8% patients were mild cases, and 36.2% patients were severe or critical cases. 4.3% patients have been discharged; 1.5% patient had died; 1.5% patient had recovery. Among the 25 patients with severe or critical disease, 12.0% patients were underwent non-invasive mechanical ventilation, 8.0% patients underwent invasive mechanical ventilation, and 4.0% patients died.All rights reserved. No reuse allowed without permission. author/funder, who has granted medRxiv a license to display the preprint in perpetuity.\n",
      "          991         1146  Background In December 2019, novel coronavirus (SARS-CoV-2) infected pneumonia occurred in Wuhan, China. The number of cases has increased rapidly but information on the clinical characteristics of SARS-CoV-2 pneumonia without comorbidities compared to normal controls in Chinese Han population is limited. Our objective is to describe the epidemiological and clinical characteristics of SARS-CoV-2 pneumonia without comorbidities compared to normal controls in the Chinese Han population.Methods Retrospective, multi-center case series of the 69 consecutive hospitalized patients with confirmed SARS-CoV-2 pneumonia,The study population included 69 hospitalized patients with confirmed SARS-CoV-2 pneumonia without comorbidities and 14,117 normal controls. 50.7% patients were male and 49.3% were female; 1.5% patients were asymptomatic cases, 63.8% patients were mild cases, and 36.2% patients were severe or critical cases. Compared with mild patients (n=44), severe or critical patients (n=25) were significantly older (median age, 67 years [IQR, vs. 49 years [IQR, 36-60]; p<0.01). Fever was present in 98.6% of the patients. The second most common symptom was cough (62.3%), fatigue (58.0%), sputum (39.1%), and headache (33.3%). The median incubation period was 4 days (IQR, 2 to 7). Leukocyte count was 74.1% of normal controls and lymphocyte count was 45.9% of normal controls. The phenomenon of lymphocyte depletion (PLD) observed in severe or critical cases in 100%.Levels of lactate dehydrogenase, D-dimer, procalcitonin, and interleukin-6 were showed significant differences between mild and severe or critical cases. Chest computed tomographic scans showed bilateral patchy patterns (49.3%), local patchy shadowing (29.0%), and ground glass opacity (21.7%). 7.3% patients were diagnosed ARDS, 7.3% patients were diagnosed acute cardiac injury (troponin I >28 pg/mL) and 4.4% patients were diagnosed fungal infections or shock. 4.3% patients have been discharged; 1.5% patient had died; 1.5% patient had recovery.Conclusions In this multicenter case series of 69 patients without comorbidities, the full All rights reserved. No reuse allowed without permission. author/funder, who has granted medRxiv a license to display the preprint in perpetuity. : medRxiv preprint 3 spectrum of asymptomatic, mild, severe, and critical cases is described. 50.7% patients were male and 49.3% were female; 1.5% patients were asymptomatic cases, 63.8% patients were mild cases, and 36.2% patients were severe or critical cases. 4.3% patients have been discharged; 1.5% patient had died; 1.5% patient had recovery. Among the 25 patients with severe or critical disease, 12.0% patients were underwent non-invasive mechanical ventilation, 8.0% patients underwent invasive mechanical ventilation, and 4.0% patients died.All rights reserved. No reuse allowed without permission. author/funder, who has granted medRxiv a license to display the preprint in perpetuity.\n"
     ]
    },
    {
     "name": "stderr",
     "output_type": "stream",
     "text": [
      "03/22/2020 16:28:43 - INFO - haystack.finder -   Reader is looking for detailed answer in 16372 chars ...\n",
      "Inferencing Samples: 100%|██████████████████████████████████████████████████████| 1/1 [00:10<00:00, 10.64s/ Batches]\n"
     ]
    }
   ],
   "source": [
    "# You can configure how many candidates the reader and retriever shall return\n",
    "# The higher top_k_retriever, the better (but also the slower) your answers. \n",
    "prediction = finder.get_answers(question=\"Do patients have gastroenteritis?\", top_k_retriever=10, top_k_reader=5)"
   ]
  },
  {
   "cell_type": "code",
   "execution_count": 15,
   "metadata": {},
   "outputs": [
    {
     "name": "stdout",
     "output_type": "stream",
     "text": [
      "[   {   'answer': 'Uncommon viral causes of acute gastroenteritis and viruses '\n",
      "                  'causing gastroenteritis in immunodeficient',\n",
      "        'context': ' measures are reviewed. Uncommon viral causes of acute '\n",
      "                   'gastroenteritis and viruses causing gastroenteritis in '\n",
      "                   'immunodeficient patients are mentioned. '},\n",
      "    {   'answer': 'Uncommon viral causes of acute gastroenteritis and viruses '\n",
      "                  'causing gastroenteritis in immunodeficient patients',\n",
      "        'context': 'e briefly reviewed. Uncommon viral causes of acute '\n",
      "                   'gastroenteritis and viruses causing gastroenteritis in '\n",
      "                   'immunodeficient patients are mentioned. The '},\n",
      "    {   'answer': 'HBoV-2 was more frequently associated with cases of '\n",
      "                  'gastroenteritis',\n",
      "        'context': 'mples were genotyped, with HBoV-1 predominantly found in '\n",
      "                   'controls whilst HBoV-2 was more frequently associated with '\n",
      "                   'cases of gastroenteritis (p,0.01).'},\n",
      "    {   'answer': 'non-SARS HCoVs can be found in stools of children with '\n",
      "                  'acute gastroenteritis',\n",
      "        'context': 'ons: This study shows that all known non-SARS HCoVs can be '\n",
      "                   'found in stools of children with acute gastroenteritis. On '\n",
      "                   'the basis of this study, the sig'},\n",
      "    {   'answer': 'Patients diagnosed by the panel as having mixed infections '\n",
      "                  '(bacteria plus virus)',\n",
      "        'context': 'controls); and (iv) indeterminate. Patients diagnosed by '\n",
      "                   'the panel as having mixed infections (bacteria plus virus) '\n",
      "                   'were labeled as bacterial because '}]\n"
     ]
    }
   ],
   "source": [
    "print_answers(prediction, details=\"minimal\")"
   ]
  },
  {
   "cell_type": "code",
   "execution_count": null,
   "metadata": {},
   "outputs": [],
   "source": []
  }
 ],
 "metadata": {
  "kernelspec": {
   "display_name": "Python 3",
   "language": "python",
   "name": "python3"
  },
  "language_info": {
   "codemirror_mode": {
    "name": "ipython",
    "version": 3
   },
   "file_extension": ".py",
   "mimetype": "text/x-python",
   "name": "python",
   "nbconvert_exporter": "python",
   "pygments_lexer": "ipython3",
   "version": "3.7.6"
  }
 },
 "nbformat": 4,
 "nbformat_minor": 4
}
