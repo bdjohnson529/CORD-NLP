{
 "cells": [
  {
   "cell_type": "markdown",
   "metadata": {},
   "source": [
    "<font size=\"6.5\">\n",
    "    CORD-19 Dataset\n",
    "</font>\n",
    "\n",
    "<br>\n",
    "\n",
    "<br>\n",
    "<font size=\"5\">\n",
    "    Format Conversion\n",
    "</font>\n",
    "\n",
    "We will be using Haystack to perform NLP functions on the CORD-19 dataset. Haystack is set up to use data saved in text files. The CORD-19 dataset is provided in JSON format. This notebook reshapes the data from JSON --> TXT."
   ]
  },
  {
   "cell_type": "code",
   "execution_count": 38,
   "metadata": {},
   "outputs": [
    {
     "data": {
      "text/plain": [
       "<module 'PyLib.Ingest' from 'C:\\\\Users\\\\benjohn\\\\Documents\\\\GitHub\\\\CORD-NLP\\\\PyLib\\\\Ingest.py'>"
      ]
     },
     "execution_count": 38,
     "metadata": {},
     "output_type": "execute_result"
    }
   ],
   "source": [
    "import pandas as pd\n",
    "import numpy as np\n",
    "import json\n",
    "\n",
    "######################\n",
    "# Custom PyLib Module\n",
    "#####################\n",
    "import os,sys,inspect\n",
    "currentdir = os.path.dirname(os.path.abspath(inspect.getfile(inspect.currentframe())))\n",
    "parentdir = os.path.dirname(currentdir)\n",
    "sys.path.insert(0,parentdir) \n",
    "\n",
    "import PyLib.config as config\n",
    "import PyLib.Ingest as ingest\n",
    "\n",
    "import importlib\n",
    "importlib.reload(config)\n",
    "importlib.reload(ingest)"
   ]
  },
  {
   "cell_type": "code",
   "execution_count": 43,
   "metadata": {},
   "outputs": [
    {
     "data": {
      "text/plain": [
       "True"
      ]
     },
     "execution_count": 43,
     "metadata": {},
     "output_type": "execute_result"
    }
   ],
   "source": [
    "# point to CORD dataset location\n",
    "data_path = \"C:\\\\data\\\\CORD-19\"\n",
    "\n",
    "# 885 pre-print articles\n",
    "preprint_json = data_path + \"\\\\biorxiv_medrxiv\\\\biorxiv_medrxiv\"\n",
    "preprint_txt = data_path + \"\\\\biorxiv_medrxiv\\\\biorxiv_medrxiv_txt\"\n",
    "ingest.convertJSONtoTXT(preprint_dir, preprint_txt)\n",
    "\n",
    "# 9,188 commercial licensed articles\n",
    "comm_json = data_path + \"\\\\comm_use_subset\\\\comm_use_subset\"\n",
    "comm_txt = data_path + \"\\\\comm_use_subset\\\\comm_use_subset_txt\"\n",
    "ingest.convertJSONtoTXT(comm_json, comm_txt)\n",
    "\n",
    "# 2,353 non-commercial licensed articles\n",
    "noncomm_json = data_path + \"\\\\noncomm_use_subset\\\\noncomm_use_subset\"\n",
    "noncomm_txt = data_path + \"\\\\noncomm_use_subset\\\\noncomm_use_subset_txt\"\n",
    "ingest.convertJSONtoTXT(noncomm_json, noncomm_txt)\n",
    "\n",
    "# 16,959 custom licensed articles\n",
    "custom_json = data_path + \"\\\\custom_license\\\\custom_license\"\n",
    "custom_txt = data_path + \"\\\\custom_license\\\\custom_license_txt\"\n",
    "ingest.convertJSONtoTXT(custom_json, custom_txt)"
   ]
  },
  {
   "cell_type": "code",
   "execution_count": 47,
   "metadata": {},
   "outputs": [],
   "source": [
    "test_file = \"C:\\\\data\\\\CORD-19\\\\comm_use_subset\\\\comm_use_subset\\\\00acd3fd31ed0cde8df286697caefc5298e54df1.json\"\n",
    "\n",
    "f = open(test_file)\n",
    "json_data = json.load(f)"
   ]
  },
  {
   "cell_type": "code",
   "execution_count": null,
   "metadata": {},
   "outputs": [],
   "source": []
  }
 ],
 "metadata": {
  "kernelspec": {
   "display_name": "Python 3",
   "language": "python",
   "name": "python3"
  },
  "language_info": {
   "codemirror_mode": {
    "name": "ipython",
    "version": 3
   },
   "file_extension": ".py",
   "mimetype": "text/x-python",
   "name": "python",
   "nbconvert_exporter": "python",
   "pygments_lexer": "ipython3",
   "version": "3.7.6"
  }
 },
 "nbformat": 4,
 "nbformat_minor": 2
}
